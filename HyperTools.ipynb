{
  "cells": [
    {
      "cell_type": "code",
      "execution_count": 1,
      "metadata": {},
      "outputs": [
        {
          "name": "stdout",
          "output_type": "stream",
          "text": [
            "Collecting hypertools==0.6.3\n",
            "  Downloading hypertools-0.6.3.tar.gz (36 kB)\n",
            "  Preparing metadata (setup.py) ... \u001b[?25ldone\n",
            "\u001b[?25hRequirement already satisfied: PPCA>=0.0.2 in /Users/kaizer/anaconda3/lib/python3.10/site-packages (from hypertools==0.6.3) (0.0.4)\n",
            "Requirement already satisfied: scikit-learn!=0.22,>=0.19.1 in /Users/kaizer/anaconda3/lib/python3.10/site-packages (from hypertools==0.6.3) (1.2.1)\n",
            "Requirement already satisfied: pandas>=0.18.0 in /Users/kaizer/anaconda3/lib/python3.10/site-packages (from hypertools==0.6.3) (1.5.3)\n",
            "Requirement already satisfied: seaborn>=0.8.1 in /Users/kaizer/anaconda3/lib/python3.10/site-packages (from hypertools==0.6.3) (0.12.2)\n",
            "Requirement already satisfied: matplotlib>=1.5.1 in /Users/kaizer/anaconda3/lib/python3.10/site-packages (from hypertools==0.6.3) (3.7.0)\n",
            "Requirement already satisfied: scipy>=1.0.0 in /Users/kaizer/anaconda3/lib/python3.10/site-packages (from hypertools==0.6.3) (1.10.0)\n",
            "Requirement already satisfied: numpy>=1.10.4 in /Users/kaizer/anaconda3/lib/python3.10/site-packages (from hypertools==0.6.3) (1.23.5)\n",
            "Requirement already satisfied: umap-learn>=0.4.6 in /Users/kaizer/anaconda3/lib/python3.10/site-packages (from hypertools==0.6.3) (0.5.3)\n",
            "Requirement already satisfied: future in /Users/kaizer/anaconda3/lib/python3.10/site-packages (from hypertools==0.6.3) (0.18.3)\n",
            "Requirement already satisfied: requests in /Users/kaizer/anaconda3/lib/python3.10/site-packages (from hypertools==0.6.3) (2.28.1)\n",
            "Collecting deepdish\n",
            "  Downloading deepdish-0.3.7-py2.py3-none-any.whl (37 kB)\n",
            "Requirement already satisfied: six in /Users/kaizer/anaconda3/lib/python3.10/site-packages (from hypertools==0.6.3) (1.16.0)\n",
            "Requirement already satisfied: pillow>=6.2.0 in /Users/kaizer/anaconda3/lib/python3.10/site-packages (from matplotlib>=1.5.1->hypertools==0.6.3) (9.4.0)\n",
            "Requirement already satisfied: packaging>=20.0 in /Users/kaizer/anaconda3/lib/python3.10/site-packages (from matplotlib>=1.5.1->hypertools==0.6.3) (22.0)\n",
            "Requirement already satisfied: pyparsing>=2.3.1 in /Users/kaizer/anaconda3/lib/python3.10/site-packages (from matplotlib>=1.5.1->hypertools==0.6.3) (3.0.9)\n",
            "Requirement already satisfied: fonttools>=4.22.0 in /Users/kaizer/anaconda3/lib/python3.10/site-packages (from matplotlib>=1.5.1->hypertools==0.6.3) (4.25.0)\n",
            "Requirement already satisfied: kiwisolver>=1.0.1 in /Users/kaizer/anaconda3/lib/python3.10/site-packages (from matplotlib>=1.5.1->hypertools==0.6.3) (1.4.4)\n",
            "Requirement already satisfied: python-dateutil>=2.7 in /Users/kaizer/anaconda3/lib/python3.10/site-packages (from matplotlib>=1.5.1->hypertools==0.6.3) (2.8.2)\n",
            "Requirement already satisfied: contourpy>=1.0.1 in /Users/kaizer/anaconda3/lib/python3.10/site-packages (from matplotlib>=1.5.1->hypertools==0.6.3) (1.0.5)\n",
            "Requirement already satisfied: cycler>=0.10 in /Users/kaizer/anaconda3/lib/python3.10/site-packages (from matplotlib>=1.5.1->hypertools==0.6.3) (0.11.0)\n",
            "Requirement already satisfied: pytz>=2020.1 in /Users/kaizer/anaconda3/lib/python3.10/site-packages (from pandas>=0.18.0->hypertools==0.6.3) (2022.7)\n",
            "Requirement already satisfied: threadpoolctl>=2.0.0 in /Users/kaizer/anaconda3/lib/python3.10/site-packages (from scikit-learn!=0.22,>=0.19.1->hypertools==0.6.3) (2.2.0)\n",
            "Requirement already satisfied: joblib>=1.1.1 in /Users/kaizer/anaconda3/lib/python3.10/site-packages (from scikit-learn!=0.22,>=0.19.1->hypertools==0.6.3) (1.1.1)\n",
            "Requirement already satisfied: tqdm in /Users/kaizer/anaconda3/lib/python3.10/site-packages (from umap-learn>=0.4.6->hypertools==0.6.3) (4.64.1)\n",
            "Requirement already satisfied: numba>=0.49 in /Users/kaizer/anaconda3/lib/python3.10/site-packages (from umap-learn>=0.4.6->hypertools==0.6.3) (0.56.4)\n",
            "Requirement already satisfied: pynndescent>=0.5 in /Users/kaizer/anaconda3/lib/python3.10/site-packages (from umap-learn>=0.4.6->hypertools==0.6.3) (0.5.10)\n",
            "Requirement already satisfied: tables in /Users/kaizer/anaconda3/lib/python3.10/site-packages (from deepdish->hypertools==0.6.3) (3.7.0)\n",
            "Requirement already satisfied: urllib3<1.27,>=1.21.1 in /Users/kaizer/anaconda3/lib/python3.10/site-packages (from requests->hypertools==0.6.3) (1.26.14)\n",
            "Requirement already satisfied: certifi>=2017.4.17 in /Users/kaizer/anaconda3/lib/python3.10/site-packages (from requests->hypertools==0.6.3) (2023.5.7)\n",
            "Requirement already satisfied: charset-normalizer<3,>=2 in /Users/kaizer/anaconda3/lib/python3.10/site-packages (from requests->hypertools==0.6.3) (2.0.4)\n",
            "Requirement already satisfied: idna<4,>=2.5 in /Users/kaizer/anaconda3/lib/python3.10/site-packages (from requests->hypertools==0.6.3) (3.4)\n",
            "Requirement already satisfied: llvmlite<0.40,>=0.39.0dev0 in /Users/kaizer/anaconda3/lib/python3.10/site-packages (from numba>=0.49->umap-learn>=0.4.6->hypertools==0.6.3) (0.39.1)\n",
            "Requirement already satisfied: setuptools in /Users/kaizer/anaconda3/lib/python3.10/site-packages (from numba>=0.49->umap-learn>=0.4.6->hypertools==0.6.3) (65.6.3)\n",
            "Requirement already satisfied: numexpr>=2.6.2 in /Users/kaizer/anaconda3/lib/python3.10/site-packages (from tables->deepdish->hypertools==0.6.3) (2.8.4)\n",
            "Building wheels for collected packages: hypertools\n",
            "  Building wheel for hypertools (setup.py) ... \u001b[?25ldone\n",
            "\u001b[?25h  Created wheel for hypertools: filename=hypertools-0.6.3-py3-none-any.whl size=46619 sha256=8d258b5a81cf587f9470216f465ea2370fa3966a76f226b35f84fd950709a356\n",
            "  Stored in directory: /Users/kaizer/Library/Caches/pip/wheels/93/d9/fc/0226ce3407e40191e2873bc68e770f22b768bbfe54ffa9d6e4\n",
            "Successfully built hypertools\n",
            "Installing collected packages: deepdish, hypertools\n",
            "  Attempting uninstall: hypertools\n",
            "    Found existing installation: hypertools 0.8.0\n",
            "    Uninstalling hypertools-0.8.0:\n",
            "      Successfully uninstalled hypertools-0.8.0\n",
            "Successfully installed deepdish-0.3.7 hypertools-0.6.3\n"
          ]
        }
      ],
      "source": [
        "! pip install hypertools==0.6.3"
      ]
    },
    {
      "cell_type": "code",
      "execution_count": 1,
      "metadata": {
        "colab": {
          "base_uri": "https://localhost:8080/"
        },
        "id": "hjwT-gNMTNXN",
        "outputId": "66ff5935-3a39-43da-bdd9-ed7630736539"
      },
      "outputs": [
        {
          "name": "stderr",
          "output_type": "stream",
          "text": [
            "/Users/kaizer/anaconda3/lib/python3.10/site-packages/tqdm/auto.py:22: TqdmWarning: IProgress not found. Please update jupyter and ipywidgets. See https://ipywidgets.readthedocs.io/en/stable/user_install.html\n",
            "  from .autonotebook import tqdm as notebook_tqdm\n"
          ]
        }
      ],
      "source": [
        "import pandas as pd\n",
        "import numpy as np\n",
        "import hypertools as hyp\n",
        "import matplotlib.pyplot as plt\n",
        "import seaborn as sns"
      ]
    },
    {
      "cell_type": "code",
      "execution_count": 3,
      "metadata": {
        "colab": {
          "base_uri": "https://localhost:8080/",
          "height": 525
        },
        "id": "O4TmTqy3T4xn",
        "outputId": "4825b27d-60f9-4d35-eecb-e880ce47c364"
      },
      "outputs": [
        {
          "data": {
            "text/plain": [
              "<hypertools.datageometry.DataGeometry at 0x16b5edbd0>"
            ]
          },
          "execution_count": 3,
          "metadata": {},
          "output_type": "execute_result"
        }
      ],
      "source": [
        "import hypertools as hyp\n",
        "# load the sample data\n",
        "weights = hyp.load('spiral')\n",
        "# Creating plot\n",
        "weights.plot(size=[7,5])"
      ]
    },
    {
      "cell_type": "code",
      "execution_count": 4,
      "metadata": {
        "colab": {
          "base_uri": "https://localhost:8080/"
        },
        "id": "FMK2oT02Ogj_",
        "outputId": "875e6de2-0c24-4be5-978f-a1315cf86d62"
      },
      "outputs": [
        {
          "data": {
            "text/plain": [
              "[array([[ 9.95004165e-01,  9.98334166e-02,  1.00000000e-01],\n",
              "        [ 9.80066578e-01,  1.98669331e-01,  2.00000000e-01],\n",
              "        [ 9.55336489e-01,  2.95520207e-01,  3.00000000e-01],\n",
              "        ...,\n",
              "        [ 7.44530583e-01, -6.67588354e-01,  9.98000000e+01],\n",
              "        [ 8.07458658e-01, -5.89924161e-01,  9.99000000e+01],\n",
              "        [ 8.62318872e-01, -5.06365641e-01,  1.00000000e+02]]),\n",
              " array([[-6.22483402e-01, -7.88946832e-01,  8.79267539e-03],\n",
              "        [-7.34214983e-01, -7.06824851e-01,  3.64278598e-02],\n",
              "        [-8.40038504e-01, -6.16779395e-01,  6.25978370e-02],\n",
              "        ...,\n",
              "        [-7.13684455e+01,  4.21865077e+01, -5.55687282e+01],\n",
              "        [-7.15092748e+01,  4.21958505e+01, -5.55602719e+01],\n",
              "        [-7.16488797e+01,  4.22137131e+01, -5.55467413e+01]])]"
            ]
          },
          "execution_count": 4,
          "metadata": {},
          "output_type": "execute_result"
        }
      ],
      "source": [
        "weights.data"
      ]
    },
    {
      "cell_type": "code",
      "execution_count": 5,
      "metadata": {
        "colab": {
          "base_uri": "https://localhost:8080/",
          "height": 652
        },
        "id": "345P9QtHfq5C",
        "outputId": "54cbd9d6-5898-46f0-f3cb-cbf25a8cfdf9"
      },
      "outputs": [
        {
          "name": "stderr",
          "output_type": "stream",
          "text": [
            "/Users/kaizer/anaconda3/lib/python3.10/site-packages/sklearn/cluster/_kmeans.py:870: FutureWarning: The default value of `n_init` will change from 10 to 'auto' in 1.4. Set the value of `n_init` explicitly to suppress the warning\n",
            "  warnings.warn(\n",
            "/Users/kaizer/anaconda3/lib/python3.10/site-packages/hypertools/plot/plot.py:312: UserWarning: n_clusters overrides hue, ignoring hue.\n",
            "  warnings.warn('n_clusters overrides hue, ignoring hue.')\n",
            "/Users/kaizer/anaconda3/lib/python3.10/site-packages/hypertools/plot/plot.py:487: VisibleDeprecationWarning: Creating an ndarray from ragged nested sequences (which is a list-or-tuple of lists-or-tuples-or ndarrays with different lengths or shapes) is deprecated. If you meant to do this, you must specify 'dtype=object' when creating the ndarray.\n",
            "  kwargs[kwarg]=np.array(kwargs[kwarg])\n"
          ]
        },
        {
          "data": {
            "text/plain": [
              "<hypertools.datageometry.DataGeometry at 0x281f75630>"
            ]
          },
          "execution_count": 5,
          "metadata": {},
          "output_type": "execute_result"
        }
      ],
      "source": [
        "clust = hyp.load('mushrooms')\n",
        "# Plt data\n",
        "clust.plot(n_clusters=3,fmt='+',size=[7,5])"
      ]
    },
    {
      "cell_type": "code",
      "execution_count": 6,
      "metadata": {
        "colab": {
          "base_uri": "https://localhost:8080/",
          "height": 581
        },
        "id": "iu8heXy69bgE",
        "outputId": "761d8df2-a1e3-40db-bfbb-ae5235a2cf39"
      },
      "outputs": [
        {
          "name": "stderr",
          "output_type": "stream",
          "text": [
            "/Users/kaizer/anaconda3/lib/python3.10/site-packages/hypertools/plot/plot.py:487: VisibleDeprecationWarning: Creating an ndarray from ragged nested sequences (which is a list-or-tuple of lists-or-tuples-or ndarrays with different lengths or shapes) is deprecated. If you meant to do this, you must specify 'dtype=object' when creating the ndarray.\n",
            "  kwargs[kwarg]=np.array(kwargs[kwarg])\n"
          ]
        },
        {
          "data": {
            "text/plain": [
              "<hypertools.datageometry.DataGeometry at 0x16ba44160>"
            ]
          },
          "execution_count": 6,
          "metadata": {},
          "output_type": "execute_result"
        }
      ],
      "source": [
        "from sklearn import datasets\n",
        "data = datasets.load_digits(n_class=5)\n",
        "df = data.data\n",
        "hue = data.target.astype('str')\n",
        "hyp.plot(df, '.', hue=hue, ndims=3,legend=[0,1,2,3,4],size=[7,5])"
      ]
    },
    {
      "cell_type": "code",
      "execution_count": 7,
      "metadata": {
        "colab": {
          "base_uri": "https://localhost:8080/"
        },
        "id": "RcKOcwGVhFrW",
        "outputId": "ed6743a6-2363-4658-ed12-9ae7af39d5f1"
      },
      "outputs": [
        {
          "data": {
            "text/plain": [
              "64"
            ]
          },
          "execution_count": 7,
          "metadata": {},
          "output_type": "execute_result"
        }
      ],
      "source": [
        "len(data.feature_names)"
      ]
    },
    {
      "cell_type": "code",
      "execution_count": 2,
      "metadata": {
        "colab": {
          "base_uri": "https://localhost:8080/",
          "height": 561
        },
        "id": "N1Zu-b8xydnH",
        "outputId": "b5d47b2d-16db-4488-cbb5-9cca612e1f8f"
      },
      "outputs": [
        {
          "name": "stderr",
          "output_type": "stream",
          "text": [
            "/Users/kaizer/anaconda3/lib/python3.10/site-packages/tqdm/auto.py:22: TqdmWarning: IProgress not found. Please update jupyter and ipywidgets. See https://ipywidgets.readthedocs.io/en/stable/user_install.html\n",
            "  from .autonotebook import tqdm as notebook_tqdm\n",
            "/Users/kaizer/anaconda3/lib/python3.10/site-packages/hypertools/tools/align.py:77: UserWarning: Setting align=True will be deprecated.  Please specify the                           type of alignment, i.e. align='hyper'. See API docs for more info: http://hypertools.readthedocs.io/en/latest/hypertools.tools.align.html#hypertools.tools.align\n",
            "  warnings.warn(\"Setting align=True will be deprecated.  Please specify the \\\n"
          ]
        },
        {
          "data": {
            "text/plain": [
              "<hypertools.datageometry.DataGeometry at 0x28423c5b0>"
            ]
          },
          "execution_count": 2,
          "metadata": {},
          "output_type": "execute_result"
        }
      ],
      "source": [
        "import hypertools as hyp\n",
        "import numpy as np\n",
        "\n",
        "data = hyp.tools.load('weights', align=True)\n",
        "\n",
        "\n",
        "group1 = np.mean(data.data[:17], 0)\n",
        "group2 = np.mean(data.data[18:], 0)\n",
        "\n",
        "hyp.plot([group1, group2], animate=True, save_path='animation.mp4',zoom=2)"
      ]
    },
    {
      "cell_type": "code",
      "execution_count": 6,
      "metadata": {},
      "outputs": [
        {
          "data": {
            "text/plain": [
              "300"
            ]
          },
          "execution_count": 6,
          "metadata": {},
          "output_type": "execute_result"
        }
      ],
      "source": []
    },
    {
      "cell_type": "code",
      "execution_count": 3,
      "metadata": {},
      "outputs": [
        {
          "name": "stdout",
          "output_type": "stream",
          "text": [
            "<class 'numpy.ndarray'>\n",
            "36\n",
            "(300, 100)\n",
            "(300, 100)\n",
            "(300, 100)\n",
            "(300, 100)\n",
            "(300, 100)\n",
            "(300, 100)\n",
            "(300, 100)\n",
            "(300, 100)\n",
            "(300, 100)\n",
            "(300, 100)\n",
            "(300, 100)\n",
            "(300, 100)\n",
            "(300, 100)\n",
            "(300, 100)\n",
            "(300, 100)\n",
            "(300, 100)\n",
            "(300, 100)\n",
            "(300, 100)\n",
            "(300, 100)\n",
            "(300, 100)\n",
            "(300, 100)\n",
            "(300, 100)\n",
            "(300, 100)\n",
            "(300, 100)\n",
            "(300, 100)\n",
            "(300, 100)\n",
            "(300, 100)\n",
            "(300, 100)\n",
            "(300, 100)\n",
            "(300, 100)\n",
            "(300, 100)\n",
            "(300, 100)\n",
            "(300, 100)\n",
            "(300, 100)\n",
            "(300, 100)\n",
            "(300, 100)\n"
          ]
        }
      ],
      "source": [
        "print(type(data.data[0]))\n",
        "print(len(data.data))\n",
        "for i in range(len(data.data)):\n",
        "    print(data.data[i].shape)"
      ]
    },
    {
      "cell_type": "code",
      "execution_count": 4,
      "metadata": {
        "colab": {
          "base_uri": "https://localhost:8080/"
        },
        "id": "BrcM2Ntt81_U",
        "outputId": "537f5139-552b-468d-8aec-c9cd527c8459"
      },
      "outputs": [
        {
          "data": {
            "text/plain": [
              "array([[ 0.02122554,  0.01342082, -0.00753515, ..., -0.00705277,\n",
              "        -0.01038997,  0.00211118],\n",
              "       [ 0.01090524,  0.00708271, -0.0040278 , ..., -0.00268782,\n",
              "        -0.0072621 , -0.00450322],\n",
              "       [ 0.00639715,  0.00064205,  0.00365421, ..., -0.00209832,\n",
              "        -0.00704891, -0.00698369],\n",
              "       ...,\n",
              "       [-0.00580782,  0.00467764,  0.00300215, ..., -0.00129603,\n",
              "        -0.01076795,  0.02274957],\n",
              "       [-0.00941509,  0.00341487,  0.01059368, ..., -0.00285819,\n",
              "        -0.00773316,  0.03158351],\n",
              "       [-0.00861268,  0.0019935 ,  0.01083602, ..., -0.00576418,\n",
              "        -0.00066873,  0.03560746]])"
            ]
          },
          "execution_count": 4,
          "metadata": {},
          "output_type": "execute_result"
        }
      ],
      "source": [
        "group2"
      ]
    },
    {
      "cell_type": "code",
      "execution_count": 2,
      "metadata": {},
      "outputs": [
        {
          "name": "stderr",
          "output_type": "stream",
          "text": [
            "/Users/kaizer/anaconda3/lib/python3.10/site-packages/tqdm/auto.py:22: TqdmWarning: IProgress not found. Please update jupyter and ipywidgets. See https://ipywidgets.readthedocs.io/en/stable/user_install.html\n",
            "  from .autonotebook import tqdm as notebook_tqdm\n"
          ]
        },
        {
          "ename": "",
          "evalue": "",
          "output_type": "error",
          "traceback": [
            "\u001b[1;31mCannot execute code, session has been disposed. Please try restarting the Kernel."
          ]
        },
        {
          "ename": "",
          "evalue": "",
          "output_type": "error",
          "traceback": [
            "\u001b[1;31mThe Kernel crashed while executing code in the the current cell or a previous cell. Please review the code in the cell(s) to identify a possible cause of the failure. Click <a href='https://aka.ms/vscodeJupyterKernelCrash'>here</a> for more info. View Jupyter <a href='command:jupyter.viewOutput'>log</a> for further details."
          ]
        }
      ],
      "source": [
        "import pandas as pd\n",
        "import pandas as pd\n",
        "import numpy as np\n",
        "import hypertools as hyp\n",
        "import matplotlib.pyplot as plt\n",
        "import seaborn as sns\n",
        "from itertools import compress\n",
        "data = pd.read_csv('/Users/kaizer/Documents/Active Learning/Code/MAAL/Multi-Annotator-HIL/data/sonar-simulated-x.csv')\n",
        "columns = list(data.columns.values)\n",
        "features = list(compress(columns, [c.startswith('x_') for c in columns]))\n",
        "labels = list(compress(columns, [c.startswith('y_') for c in columns]))\n",
        "\n",
        "X = data[features]\n",
        "\n",
        "geo = hyp.plot(X, '.', hue = data['y'] ,ndims=2)"
      ]
    }
  ],
  "metadata": {
    "accelerator": "GPU",
    "colab": {
      "provenance": []
    },
    "kernelspec": {
      "display_name": "Python 3",
      "name": "python3"
    },
    "language_info": {
      "codemirror_mode": {
        "name": "ipython",
        "version": 3
      },
      "file_extension": ".py",
      "mimetype": "text/x-python",
      "name": "python",
      "nbconvert_exporter": "python",
      "pygments_lexer": "ipython3",
      "version": "3.10.8"
    }
  },
  "nbformat": 4,
  "nbformat_minor": 0
}
